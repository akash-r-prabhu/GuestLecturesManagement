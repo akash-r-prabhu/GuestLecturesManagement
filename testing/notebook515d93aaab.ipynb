{
 "cells": [
  {
   "cell_type": "code",
   "execution_count": 1,
   "metadata": {
    "execution": {
     "iopub.execute_input": "2023-02-17T16:52:20.369089Z",
     "iopub.status.busy": "2023-02-17T16:52:20.368586Z",
     "iopub.status.idle": "2023-02-17T16:52:26.935685Z",
     "shell.execute_reply": "2023-02-17T16:52:26.934559Z",
     "shell.execute_reply.started": "2023-02-17T16:52:20.368983Z"
    }
   },
   "outputs": [],
   "source": [
    "import numpy as np \n",
    "import pandas as pd \n",
    "import matplotlib.pyplot as plt\n",
    "import seaborn as sns\n",
    "sns.set()\n",
    "\n",
    "from keras.models import Sequential\n",
    "from keras.layers import Conv2D, Dropout, BatchNormalization, Flatten, Dense, MaxPooling2D\n",
    "from keras.utils import to_categorical\n",
    "from keras.callbacks import EarlyStopping, ReduceLROnPlateau\n",
    "from keras.optimizers import Adam\n",
    "\n",
    "from sklearn.metrics import mean_absolute_error, confusion_matrix, classification_report\n",
    "from sklearn.model_selection import train_test_split\n"
   ]
  },
  {
   "cell_type": "code",
   "execution_count": 2,
   "metadata": {
    "execution": {
     "iopub.execute_input": "2023-02-17T16:52:26.93846Z",
     "iopub.status.busy": "2023-02-17T16:52:26.937742Z",
     "iopub.status.idle": "2023-02-17T16:52:38.36707Z",
     "shell.execute_reply": "2023-02-17T16:52:38.365969Z",
     "shell.execute_reply.started": "2023-02-17T16:52:26.93842Z"
    }
   },
   "outputs": [],
   "source": [
    "df = pd.read_csv('C:/Users/User/Downloads/age_gender.csv/age_gender.csv')\n",
    "df['pixels'] = df['pixels'].map(lambda x: np.array(x.split(' '), dtype=np.float32).reshape(48, 48))"
   ]
  },
  {
   "cell_type": "code",
   "execution_count": 3,
   "metadata": {
    "execution": {
     "iopub.execute_input": "2023-02-17T16:52:38.369587Z",
     "iopub.status.busy": "2023-02-17T16:52:38.368915Z",
     "iopub.status.idle": "2023-02-17T16:52:38.575566Z",
     "shell.execute_reply": "2023-02-17T16:52:38.574544Z",
     "shell.execute_reply.started": "2023-02-17T16:52:38.36955Z"
    }
   },
   "outputs": [],
   "source": [
    "# Reshape images for CNN\n",
    "X = np.array(df['pixels'].to_list())\n",
    "X_reshaped = X.reshape(X.shape[0], 48, 48, 1)\n",
    "# Normalise images\n",
    "if np.max(X_reshaped) > 1: X_reshaped = X_reshaped / 255\n",
    "# Set some useful variables\n",
    "input_shape = X_reshaped.shape[1:] \n",
    "\n",
    "# Set y\n",
    "y = df['age'].values\n",
    "y_gender=df['gender'].values"
   ]
  },
  {
   "cell_type": "code",
   "execution_count": 4,
   "metadata": {
    "execution": {
     "iopub.execute_input": "2023-02-17T16:52:38.578954Z",
     "iopub.status.busy": "2023-02-17T16:52:38.57823Z",
     "iopub.status.idle": "2023-02-17T16:52:38.659872Z",
     "shell.execute_reply": "2023-02-17T16:52:38.658919Z",
     "shell.execute_reply.started": "2023-02-17T16:52:38.578916Z"
    }
   },
   "outputs": [],
   "source": [
    "# Train test split\n",
    "X_train, X_test, y_train, y_test = train_test_split(X_reshaped, y, test_size=0.2, random_state=123)"
   ]
  },
  {
   "cell_type": "code",
   "execution_count": 5,
   "metadata": {},
   "outputs": [],
   "source": [
    "X_gtrain, X_gtest, y_gtrain, y_gtest = train_test_split(X_reshaped, y_gender, test_size=0.2, random_state=123)"
   ]
  },
  {
   "cell_type": "markdown",
   "metadata": {},
   "source": [
    "# 1. Simple model"
   ]
  },
  {
   "cell_type": "code",
   "execution_count": 6,
   "metadata": {
    "execution": {
     "iopub.execute_input": "2023-02-17T16:27:53.47331Z",
     "iopub.status.busy": "2023-02-17T16:27:53.472911Z",
     "iopub.status.idle": "2023-02-17T16:27:53.568566Z",
     "shell.execute_reply": "2023-02-17T16:27:53.567865Z",
     "shell.execute_reply.started": "2023-02-17T16:27:53.473274Z"
    }
   },
   "outputs": [
    {
     "name": "stdout",
     "output_type": "stream",
     "text": [
      "Model: \"sequential\"\n",
      "_________________________________________________________________\n",
      " Layer (type)                Output Shape              Param #   \n",
      "=================================================================\n",
      " conv2d (Conv2D)             (None, 46, 46, 64)        640       \n",
      "                                                                 \n",
      " max_pooling2d (MaxPooling2D  (None, 23, 23, 64)       0         \n",
      " )                                                               \n",
      "                                                                 \n",
      " conv2d_1 (Conv2D)           (None, 21, 21, 128)       73856     \n",
      "                                                                 \n",
      " max_pooling2d_1 (MaxPooling  (None, 10, 10, 128)      0         \n",
      " 2D)                                                             \n",
      "                                                                 \n",
      " conv2d_2 (Conv2D)           (None, 8, 8, 256)         295168    \n",
      "                                                                 \n",
      " max_pooling2d_2 (MaxPooling  (None, 4, 4, 256)        0         \n",
      " 2D)                                                             \n",
      "                                                                 \n",
      " flatten (Flatten)           (None, 4096)              0         \n",
      "                                                                 \n",
      " dense (Dense)               (None, 128)               524416    \n",
      "                                                                 \n",
      " dropout (Dropout)           (None, 128)               0         \n",
      "                                                                 \n",
      " dense_1 (Dense)             (None, 1)                 129       \n",
      "                                                                 \n",
      "=================================================================\n",
      "Total params: 894,209\n",
      "Trainable params: 894,209\n",
      "Non-trainable params: 0\n",
      "_________________________________________________________________\n"
     ]
    }
   ],
   "source": [
    "age_model_1 = Sequential()\n",
    "\n",
    "age_model_1.add(Conv2D(64, kernel_size=(3,3), input_shape=input_shape, activation='relu'))\n",
    "age_model_1.add(MaxPooling2D(pool_size=(2,2)))\n",
    "\n",
    "age_model_1.add(Conv2D(128, kernel_size=(3,3), activation='relu'))\n",
    "age_model_1.add(MaxPooling2D(pool_size=(2,2)))\n",
    "\n",
    "age_model_1.add(Conv2D(256, kernel_size=(3,3), activation='relu'))\n",
    "age_model_1.add(MaxPooling2D(pool_size=(2,2)))\n",
    "\n",
    "age_model_1.add(Flatten())\n",
    "age_model_1.add(Dense(128, activation='relu'))\n",
    "age_model_1.add(Dropout(0.5))\n",
    "age_model_1.add(Dense(1, activation='linear'))\n",
    "\n",
    "age_model_1.compile(optimizer='adam', loss='mean_absolute_error')\n",
    "\n",
    "age_model_1.summary()\n"
   ]
  },
  {
   "cell_type": "code",
   "execution_count": 7,
   "metadata": {
    "execution": {
     "iopub.execute_input": "2023-02-17T16:27:53.570007Z",
     "iopub.status.busy": "2023-02-17T16:27:53.569642Z",
     "iopub.status.idle": "2023-02-17T16:27:53.575076Z",
     "shell.execute_reply": "2023-02-17T16:27:53.574309Z",
     "shell.execute_reply.started": "2023-02-17T16:27:53.569973Z"
    }
   },
   "outputs": [],
   "source": [
    "# Callbacks for age model\n",
    "callbacks = [EarlyStopping(patience=10, \n",
    "                               min_delta=0.001,\n",
    "                               restore_best_weights=True),\n",
    "             ReduceLROnPlateau(patience = 2,\n",
    "                               verbose=1,\n",
    "                               factor=0.5,\n",
    "                               min_lr = 0.0001)]"
   ]
  },
  {
   "cell_type": "code",
   "execution_count": null,
   "metadata": {
    "execution": {
     "iopub.execute_input": "2023-02-17T16:27:53.576747Z",
     "iopub.status.busy": "2023-02-17T16:27:53.576285Z",
     "iopub.status.idle": "2023-02-17T16:30:16.303428Z",
     "shell.execute_reply": "2023-02-17T16:30:16.302168Z",
     "shell.execute_reply.started": "2023-02-17T16:27:53.576697Z"
    }
   },
   "outputs": [
    {
     "name": "stdout",
     "output_type": "stream",
     "text": [
      "Epoch 1/35\n",
      "297/297 [==============================] - 78s 260ms/step - loss: 15.9278 - val_loss: 14.3524 - lr: 0.0010\n",
      "Epoch 2/35\n",
      "297/297 [==============================] - 69s 231ms/step - loss: 12.9690 - val_loss: 11.6754 - lr: 0.0010\n",
      "Epoch 3/35\n",
      "297/297 [==============================] - 75s 251ms/step - loss: 11.3840 - val_loss: 10.3266 - lr: 0.0010\n",
      "Epoch 4/35\n",
      "297/297 [==============================] - 71s 238ms/step - loss: 10.9087 - val_loss: 9.9831 - lr: 0.0010\n",
      "Epoch 5/35\n",
      "297/297 [==============================] - 70s 236ms/step - loss: 10.0453 - val_loss: 10.0028 - lr: 0.0010\n",
      "Epoch 6/35\n",
      "297/297 [==============================] - 78s 261ms/step - loss: 9.6124 - val_loss: 8.8233 - lr: 0.0010\n",
      "Epoch 7/35\n",
      "297/297 [==============================] - 65s 219ms/step - loss: 9.0733 - val_loss: 10.3471 - lr: 0.0010\n",
      "Epoch 8/35\n",
      "297/297 [==============================] - 64s 217ms/step - loss: 8.7658 - val_loss: 7.8108 - lr: 0.0010\n",
      "Epoch 9/35\n",
      "297/297 [==============================] - 71s 240ms/step - loss: 8.4829 - val_loss: 7.5629 - lr: 0.0010\n",
      "Epoch 10/35\n",
      "297/297 [==============================] - 65s 219ms/step - loss: 8.3627 - val_loss: 8.8872 - lr: 0.0010\n",
      "Epoch 11/35\n",
      "297/297 [==============================] - ETA: 0s - loss: 8.1023\n",
      "Epoch 11: ReduceLROnPlateau reducing learning rate to 0.0005000000237487257.\n",
      "297/297 [==============================] - 65s 218ms/step - loss: 8.1023 - val_loss: 7.5960 - lr: 0.0010\n",
      "Epoch 12/35\n",
      "297/297 [==============================] - 67s 226ms/step - loss: 7.6024 - val_loss: 7.1484 - lr: 5.0000e-04\n",
      "Epoch 13/35\n",
      "297/297 [==============================] - 65s 219ms/step - loss: 7.5322 - val_loss: 7.1071 - lr: 5.0000e-04\n",
      "Epoch 14/35\n",
      " 67/297 [=====>........................] - ETA: 48s - loss: 7.4953"
     ]
    }
   ],
   "source": [
    "history = age_model_1.fit(X_train, y_train, \n",
    "                        epochs=35,\n",
    "                        batch_size=64,\n",
    "                        callbacks=callbacks,\n",
    "                        validation_data=(X_test, y_test))"
   ]
  },
  {
   "cell_type": "code",
   "execution_count": null,
   "metadata": {
    "execution": {
     "iopub.execute_input": "2023-02-17T16:30:16.305886Z",
     "iopub.status.busy": "2023-02-17T16:30:16.305184Z",
     "iopub.status.idle": "2023-02-17T16:30:16.615678Z",
     "shell.execute_reply": "2023-02-17T16:30:16.614782Z",
     "shell.execute_reply.started": "2023-02-17T16:30:16.305845Z"
    }
   },
   "outputs": [],
   "source": [
    "pd.DataFrame(history.history).plot();"
   ]
  },
  {
   "cell_type": "code",
   "execution_count": null,
   "metadata": {
    "execution": {
     "iopub.execute_input": "2023-02-17T16:30:16.618878Z",
     "iopub.status.busy": "2023-02-17T16:30:16.618126Z",
     "iopub.status.idle": "2023-02-17T16:30:17.102341Z",
     "shell.execute_reply": "2023-02-17T16:30:17.101291Z",
     "shell.execute_reply.started": "2023-02-17T16:30:16.618816Z"
    }
   },
   "outputs": [],
   "source": [
    "from sklearn.metrics import r2_score\n",
    "\n",
    "# Make predictions \n",
    "y_pred = age_model_1.predict(X_test)\n",
    "\n",
    "# calculate R2 score\n",
    "r2 = r2_score(y_test, y_pred)\n",
    "\n",
    "print(\"R2 score: {:.3f}\".format(r2))"
   ]
  },
  {
   "cell_type": "code",
   "execution_count": null,
   "metadata": {},
   "outputs": [],
   "source": [
    "history=age_model_1.fit(X_gtrain,y_gtrain,epochs=35,\n",
    "                        batch_size=64,\n",
    "                        callbacks=callbacks,\n",
    "                        validation_data=(X_gtest, y_gtest))"
   ]
  },
  {
   "cell_type": "code",
   "execution_count": null,
   "metadata": {},
   "outputs": [],
   "source": [
    "pd.DataFrame(history.history).plot();"
   ]
  },
  {
   "cell_type": "code",
   "execution_count": null,
   "metadata": {},
   "outputs": [],
   "source": [
    "from sklearn.metrics import r2_score\n",
    "\n",
    "# Make predictions \n",
    "y_pred = age_model_1.predict(X_gtest)\n",
    "\n",
    "# calculate R2 score\n",
    "r2 = r2_score(y_gtest, y_pred)\n",
    "\n",
    "print(\"R2 score: {:.3f}\".format(r2))"
   ]
  },
  {
   "cell_type": "markdown",
   "metadata": {},
   "source": [
    "# 2. Complex model"
   ]
  },
  {
   "cell_type": "code",
   "execution_count": null,
   "metadata": {
    "execution": {
     "iopub.execute_input": "2023-02-17T16:38:24.445325Z",
     "iopub.status.busy": "2023-02-17T16:38:24.444958Z",
     "iopub.status.idle": "2023-02-17T16:38:27.096044Z",
     "shell.execute_reply": "2023-02-17T16:38:27.095229Z",
     "shell.execute_reply.started": "2023-02-17T16:38:24.445295Z"
    }
   },
   "outputs": [],
   "source": [
    "age_model_2 = Sequential()\n",
    "\n",
    "age_model_2.add(Conv2D(64, kernel_size=(3,3), input_shape=input_shape, activation='relu', padding='same'))\n",
    "age_model_2.add(Conv2D(64, kernel_size=(3,3), activation='relu', padding='same'))\n",
    "age_model_2.add(MaxPooling2D(pool_size=(2,2)))\n",
    "age_model_2.add(BatchNormalization())\n",
    "\n",
    "age_model_2.add(Conv2D(128, kernel_size=(3,3), activation='relu', padding='same'))\n",
    "age_model_2.add(Conv2D(128, kernel_size=(3,3), activation='relu', padding='same'))\n",
    "age_model_2.add(MaxPooling2D(pool_size=(2,2)))\n",
    "age_model_2.add(Dropout(0.3))\n",
    "age_model_2.add(BatchNormalization())\n",
    "\n",
    "age_model_2.add(Conv2D(256, kernel_size=(3,3), activation='relu', padding='same'))\n",
    "age_model_2.add(Conv2D(256, kernel_size=(3,3), activation='relu', padding='same'))\n",
    "age_model_2.add(Conv2D(256, kernel_size=(3,3), activation='relu', padding='same'))\n",
    "age_model_2.add(MaxPooling2D(pool_size=(2,2)))\n",
    "age_model_2.add(Dropout(0.4))\n",
    "age_model_2.add(BatchNormalization())\n",
    "\n",
    "age_model_2.add(Conv2D(512, kernel_size=(3,3), activation='relu', padding='same'))\n",
    "age_model_2.add(Conv2D(512, kernel_size=(3,3), activation='relu', padding='same'))\n",
    "age_model_2.add(MaxPooling2D(pool_size=(2,2)))\n",
    "age_model_2.add(Dropout(0.5))\n",
    "age_model_2.add(BatchNormalization())\n",
    "\n",
    "age_model_2.add(Flatten())\n",
    "age_model_2.add(Dense(256, activation='relu'))\n",
    "age_model_2.add(Dropout(0.3))\n",
    "age_model_2.add(Dense(128, activation='relu'))\n",
    "age_model_2.add(Dropout(0.2))\n",
    "age_model_2.add(Dense(1))\n",
    "\n",
    "age_model_2.compile(optimizer='adam', loss='mean_absolute_error')\n",
    "\n",
    "age_model_2.summary()\n"
   ]
  },
  {
   "cell_type": "code",
   "execution_count": null,
   "metadata": {
    "execution": {
     "iopub.execute_input": "2023-02-17T16:38:34.942334Z",
     "iopub.status.busy": "2023-02-17T16:38:34.94198Z",
     "iopub.status.idle": "2023-02-17T16:38:34.947639Z",
     "shell.execute_reply": "2023-02-17T16:38:34.946707Z",
     "shell.execute_reply.started": "2023-02-17T16:38:34.942304Z"
    }
   },
   "outputs": [],
   "source": [
    "# Callbacks for age model\n",
    "callbacks = [EarlyStopping(patience=10, \n",
    "                               min_delta=0.001,\n",
    "                               restore_best_weights=True),\n",
    "             ReduceLROnPlateau(patience = 2,\n",
    "                               verbose=1,\n",
    "                               factor=0.5,\n",
    "                               min_lr = 0.0001)]"
   ]
  },
  {
   "cell_type": "code",
   "execution_count": null,
   "metadata": {
    "execution": {
     "iopub.execute_input": "2023-02-17T16:38:35.669576Z",
     "iopub.status.busy": "2023-02-17T16:38:35.668795Z",
     "iopub.status.idle": "2023-02-17T16:41:48.86359Z",
     "shell.execute_reply": "2023-02-17T16:41:48.862644Z",
     "shell.execute_reply.started": "2023-02-17T16:38:35.669527Z"
    }
   },
   "outputs": [],
   "source": [
    "history = age_model_2.fit(X_train, y_train, \n",
    "                        epochs=35,   \n",
    "                        batch_size=64,\n",
    "                        callbacks=callbacks,\n",
    "                        validation_data=(X_test, y_test))"
   ]
  },
  {
   "cell_type": "code",
   "execution_count": null,
   "metadata": {
    "execution": {
     "iopub.execute_input": "2023-02-17T16:41:48.870854Z",
     "iopub.status.busy": "2023-02-17T16:41:48.868676Z",
     "iopub.status.idle": "2023-02-17T16:41:59.709408Z",
     "shell.execute_reply": "2023-02-17T16:41:59.708396Z",
     "shell.execute_reply.started": "2023-02-17T16:41:48.870816Z"
    }
   },
   "outputs": [],
   "source": [
    "pd.DataFrame(history.history).plot();"
   ]
  },
  {
   "cell_type": "code",
   "execution_count": null,
   "metadata": {
    "execution": {
     "iopub.execute_input": "2023-02-17T16:41:59.715805Z",
     "iopub.status.busy": "2023-02-17T16:41:59.713506Z",
     "iopub.status.idle": "2023-02-17T16:42:00.974394Z",
     "shell.execute_reply": "2023-02-17T16:42:00.973481Z",
     "shell.execute_reply.started": "2023-02-17T16:41:59.715744Z"
    }
   },
   "outputs": [],
   "source": [
    "from sklearn.metrics import r2_score\n",
    "\n",
    "# Make predictions \n",
    "y_pred = age_model_2.predict(X_test)\n",
    "\n",
    "# calculate R2 score\n",
    "r2 = r2_score(y_test, y_pred)\n",
    "\n",
    "print(\"R2 score: {:.3f}\".format(r2))"
   ]
  },
  {
   "cell_type": "code",
   "execution_count": null,
   "metadata": {},
   "outputs": [],
   "source": [
    "history=age_model_2.fit(X_gtrain,y_gtrain,epochs=35,\n",
    "                        batch_size=64,\n",
    "                        callbacks=callbacks,\n",
    "                        validation_data=(X_gtest, y_gtest))"
   ]
  },
  {
   "cell_type": "code",
   "execution_count": null,
   "metadata": {},
   "outputs": [],
   "source": [
    "pd.DataFrame(history.history).plot();"
   ]
  },
  {
   "cell_type": "code",
   "execution_count": null,
   "metadata": {},
   "outputs": [],
   "source": [
    "from sklearn.metrics import r2_score\n",
    "\n",
    "# Make predictions \n",
    "y_pred = age_model_2.predict(X_gtest)\n",
    "\n",
    "# calculate R2 score\n",
    "r2 = r2_score(y_gtest, y_pred)\n",
    "\n",
    "print(\"R2 score: {:.3f}\".format(r2))"
   ]
  },
  {
   "cell_type": "markdown",
   "metadata": {},
   "source": [
    "# 3. Model with adjusted Flatten layer"
   ]
  },
  {
   "cell_type": "code",
   "execution_count": null,
   "metadata": {
    "execution": {
     "iopub.execute_input": "2023-02-17T16:42:46.328512Z",
     "iopub.status.busy": "2023-02-17T16:42:46.328159Z",
     "iopub.status.idle": "2023-02-17T16:42:46.52215Z",
     "shell.execute_reply": "2023-02-17T16:42:46.521379Z",
     "shell.execute_reply.started": "2023-02-17T16:42:46.328482Z"
    }
   },
   "outputs": [],
   "source": [
    "age_model_3 = Sequential()\n",
    "\n",
    "age_model_3.add(Conv2D(64, kernel_size=(3,3), input_shape=input_shape, activation='relu'))\n",
    "age_model_3.add(MaxPooling2D(pool_size=(2,2)))\n",
    "age_model_3.add(BatchNormalization())\n",
    "\n",
    "age_model_3.add(Conv2D(128, kernel_size=(3,3), activation='relu', padding='same'))\n",
    "age_model_3.add(Conv2D(128, kernel_size=(3,3), activation='relu'))\n",
    "age_model_3.add(MaxPooling2D(pool_size=(2,2)))\n",
    "age_model_3.add(Dropout(0.3))\n",
    "age_model_3.add(BatchNormalization())\n",
    "\n",
    "age_model_3.add(Conv2D(256, kernel_size=(3,3), activation='relu', padding='same'))\n",
    "age_model_3.add(Conv2D(256, kernel_size=(3,3), activation='relu'))\n",
    "age_model_3.add(MaxPooling2D(pool_size=(2,2)))\n",
    "age_model_3.add(Dropout(0.3))\n",
    "age_model_3.add(BatchNormalization())\n",
    "\n",
    "age_model_3.add(Conv2D(512, kernel_size=(3,3), activation='relu', padding='same'))\n",
    "age_model_3.add(MaxPooling2D(pool_size=(2,2)))\n",
    "age_model_3.add(Dropout(0.5))\n",
    "age_model_3.add(BatchNormalization())\n",
    "\n",
    "age_model_3.add(Flatten())\n",
    "age_model_3.add(Dense(128, activation='relu'))\n",
    "age_model_3.add(Dropout(0.4))\n",
    "age_model_3.add(Dense(1))\n",
    "\n",
    "age_model_3.compile(optimizer='adam', loss='mean_absolute_error')\n",
    "\n",
    "age_model_3.summary()"
   ]
  },
  {
   "cell_type": "code",
   "execution_count": null,
   "metadata": {
    "execution": {
     "iopub.execute_input": "2023-02-17T16:42:48.24346Z",
     "iopub.status.busy": "2023-02-17T16:42:48.243103Z",
     "iopub.status.idle": "2023-02-17T16:42:48.249499Z",
     "shell.execute_reply": "2023-02-17T16:42:48.248447Z",
     "shell.execute_reply.started": "2023-02-17T16:42:48.243429Z"
    }
   },
   "outputs": [],
   "source": [
    "# Callbacks for age model\n",
    "callbacks = [EarlyStopping(patience=10, \n",
    "                               min_delta=0.001,\n",
    "                               restore_best_weights=True),\n",
    "             ReduceLROnPlateau(patience = 2,\n",
    "                               verbose=1,\n",
    "                               factor=0.5,\n",
    "                               min_lr = 0.0001)]"
   ]
  },
  {
   "cell_type": "code",
   "execution_count": null,
   "metadata": {
    "execution": {
     "iopub.execute_input": "2023-02-17T16:42:48.933481Z",
     "iopub.status.busy": "2023-02-17T16:42:48.932696Z",
     "iopub.status.idle": "2023-02-17T16:45:31.005908Z",
     "shell.execute_reply": "2023-02-17T16:45:31.004967Z",
     "shell.execute_reply.started": "2023-02-17T16:42:48.933449Z"
    }
   },
   "outputs": [],
   "source": [
    "history = age_model_3.fit(X_train, y_train, \n",
    "                        epochs=35,\n",
    "                        batch_size=64,\n",
    "                        callbacks=callbacks,\n",
    "                        validation_data=(X_test, y_test))"
   ]
  },
  {
   "cell_type": "code",
   "execution_count": null,
   "metadata": {
    "execution": {
     "iopub.execute_input": "2023-02-17T16:45:31.008777Z",
     "iopub.status.busy": "2023-02-17T16:45:31.008363Z",
     "iopub.status.idle": "2023-02-17T16:45:31.298643Z",
     "shell.execute_reply": "2023-02-17T16:45:31.297604Z",
     "shell.execute_reply.started": "2023-02-17T16:45:31.008739Z"
    }
   },
   "outputs": [],
   "source": [
    "pd.DataFrame(history.history).plot();"
   ]
  },
  {
   "cell_type": "code",
   "execution_count": null,
   "metadata": {
    "execution": {
     "iopub.execute_input": "2023-02-17T16:45:31.301484Z",
     "iopub.status.busy": "2023-02-17T16:45:31.300763Z",
     "iopub.status.idle": "2023-02-17T16:45:32.167319Z",
     "shell.execute_reply": "2023-02-17T16:45:32.165713Z",
     "shell.execute_reply.started": "2023-02-17T16:45:31.301441Z"
    }
   },
   "outputs": [],
   "source": [
    "from sklearn.metrics import r2_score\n",
    "\n",
    "# Make predictions \n",
    "y_pred = age_model_3.predict(X_test)\n",
    "\n",
    "# calculate R2 score\n",
    "r2 = r2_score(y_test, y_pred)\n",
    "\n",
    "print(\"R2 score: {:.3f}\".format(r2))"
   ]
  },
  {
   "cell_type": "code",
   "execution_count": null,
   "metadata": {},
   "outputs": [],
   "source": [
    "history=age_model_3.fit(X_gtrain,y_gtrain,epochs=35,\n",
    "                        batch_size=64,\n",
    "                        callbacks=callbacks,\n",
    "                        validation_data=(X_gtest, y_gtest))"
   ]
  },
  {
   "cell_type": "code",
   "execution_count": null,
   "metadata": {},
   "outputs": [],
   "source": [
    "pd.DataFrame(history.history).plot();"
   ]
  },
  {
   "cell_type": "code",
   "execution_count": null,
   "metadata": {},
   "outputs": [],
   "source": [
    "from sklearn.metrics import r2_score\n",
    "\n",
    "# Make predictions \n",
    "y_pred = age_model_3.predict(X_gtest)\n",
    "\n",
    "# calculate R2 score\n",
    "r2 = r2_score(y_gtest, y_pred)\n",
    "\n",
    "print(\"R2 score: {:.3f}\".format(r2))"
   ]
  },
  {
   "cell_type": "markdown",
   "metadata": {},
   "source": [
    "# 4.Model balanced"
   ]
  },
  {
   "cell_type": "code",
   "execution_count": null,
   "metadata": {
    "execution": {
     "iopub.execute_input": "2023-02-17T16:53:05.054237Z",
     "iopub.status.busy": "2023-02-17T16:53:05.053609Z",
     "iopub.status.idle": "2023-02-17T16:53:05.266604Z",
     "shell.execute_reply": "2023-02-17T16:53:05.265832Z",
     "shell.execute_reply.started": "2023-02-17T16:53:05.054186Z"
    }
   },
   "outputs": [],
   "source": [
    "age_model_4 = Sequential()\n",
    "\n",
    "age_model_4.add(Conv2D(128, kernel_size=(2,2), input_shape=input_shape, activation='relu'))\n",
    "age_model_4.add(MaxPooling2D(pool_size=(2,2)))\n",
    "age_model_4.add(BatchNormalization())\n",
    "\n",
    "age_model_4.add(Conv2D(128, kernel_size=(3,3), activation='relu', padding='same'))\n",
    "age_model_4.add(Conv2D(128, kernel_size=(3,3), activation='relu'))\n",
    "age_model_4.add(MaxPooling2D(pool_size=(2,2)))\n",
    "age_model_4.add(Dropout(0.3))\n",
    "age_model_4.add(BatchNormalization())\n",
    "\n",
    "age_model_4.add(Conv2D(256, kernel_size=(3,3), activation='relu', padding='same'))\n",
    "age_model_4.add(Conv2D(256, kernel_size=(3,3), activation='relu'))\n",
    "age_model_4.add(MaxPooling2D(pool_size=(2,2)))\n",
    "age_model_4.add(Dropout(0.3))\n",
    "age_model_4.add(BatchNormalization())\n",
    "\n",
    "age_model_4.add(Conv2D(512, kernel_size=(3,3), activation='relu', padding='same'))\n",
    "age_model_4.add(MaxPooling2D(pool_size=(2,2)))\n",
    "age_model_4.add(Dropout(0.5))\n",
    "age_model_4.add(BatchNormalization())\n",
    "\n",
    "age_model_4.add(Flatten())\n",
    "age_model_4.add(Dense(64, activation='relu'))\n",
    "age_model_4.add(Dropout(0.4))\n",
    "age_model_4.add(Dense(32, activation='relu'))\n",
    "age_model_4.add(Dropout(0.2))\n",
    "age_model_4.add(Dense(1))\n",
    "\n",
    "age_model_4.compile(optimizer='adam', loss='mean_absolute_error')\n",
    "\n",
    "age_model_4.summary()\n"
   ]
  },
  {
   "cell_type": "code",
   "execution_count": null,
   "metadata": {
    "execution": {
     "iopub.execute_input": "2023-02-17T16:53:13.204269Z",
     "iopub.status.busy": "2023-02-17T16:53:13.203886Z",
     "iopub.status.idle": "2023-02-17T16:53:13.209872Z",
     "shell.execute_reply": "2023-02-17T16:53:13.208847Z",
     "shell.execute_reply.started": "2023-02-17T16:53:13.204238Z"
    }
   },
   "outputs": [],
   "source": [
    "# Callbacks for age model\n",
    "callbacks = [EarlyStopping(patience=10, \n",
    "                               min_delta=0.001,\n",
    "                               restore_best_weights=True),\n",
    "             ReduceLROnPlateau(patience = 2,\n",
    "                               verbose=1,\n",
    "                               factor=0.5,\n",
    "                               min_lr = 0.0001)]"
   ]
  },
  {
   "cell_type": "code",
   "execution_count": null,
   "metadata": {
    "execution": {
     "iopub.execute_input": "2023-02-17T16:53:14.022705Z",
     "iopub.status.busy": "2023-02-17T16:53:14.022346Z",
     "iopub.status.idle": "2023-02-17T16:56:37.531303Z",
     "shell.execute_reply": "2023-02-17T16:56:37.530059Z",
     "shell.execute_reply.started": "2023-02-17T16:53:14.022666Z"
    }
   },
   "outputs": [],
   "source": [
    "history = age_model_4.fit(X_train, y_train, \n",
    "                        epochs=35,\n",
    "                        batch_size=64,\n",
    "                        callbacks=callbacks,\n",
    "                        validation_data=(X_test, y_test))"
   ]
  },
  {
   "cell_type": "code",
   "execution_count": null,
   "metadata": {
    "execution": {
     "iopub.execute_input": "2023-02-17T16:56:37.534524Z",
     "iopub.status.busy": "2023-02-17T16:56:37.534111Z",
     "iopub.status.idle": "2023-02-17T16:56:37.874193Z",
     "shell.execute_reply": "2023-02-17T16:56:37.873302Z",
     "shell.execute_reply.started": "2023-02-17T16:56:37.534485Z"
    }
   },
   "outputs": [],
   "source": [
    "pd.DataFrame(history.history).plot();"
   ]
  },
  {
   "cell_type": "code",
   "execution_count": null,
   "metadata": {
    "execution": {
     "iopub.execute_input": "2023-02-17T16:56:37.875931Z",
     "iopub.status.busy": "2023-02-17T16:56:37.875482Z",
     "iopub.status.idle": "2023-02-17T16:56:38.810628Z",
     "shell.execute_reply": "2023-02-17T16:56:38.809573Z",
     "shell.execute_reply.started": "2023-02-17T16:56:37.875877Z"
    }
   },
   "outputs": [],
   "source": [
    "from sklearn.metrics import r2_score\n",
    "\n",
    "# Make predictions \n",
    "y_pred = age_model_4.predict(X_test)\n",
    "\n",
    "# calculate R2 score\n",
    "r2 = r2_score(y_test, y_pred)\n",
    "\n",
    "print(\"R2 score: {:.3f}\".format(r2))"
   ]
  },
  {
   "cell_type": "code",
   "execution_count": null,
   "metadata": {},
   "outputs": [],
   "source": [
    "history=age_model_4.fit(X_gtrain,y_gtrain,epochs=35,\n",
    "                        batch_size=64,\n",
    "                        callbacks=callbacks,\n",
    "                        validation_data=(X_gtest, y_gtest))"
   ]
  },
  {
   "cell_type": "code",
   "execution_count": null,
   "metadata": {},
   "outputs": [],
   "source": [
    "pd.DataFrame(history.history).plot();"
   ]
  },
  {
   "cell_type": "code",
   "execution_count": null,
   "metadata": {},
   "outputs": [],
   "source": [
    "from sklearn.metrics import r2_score\n",
    "\n",
    "# Make predictions \n",
    "y_pred = age_model_4.predict(X_gtest)\n",
    "\n",
    "# calculate R2 score\n",
    "r2 = r2_score(y_gtest, y_pred)\n",
    "\n",
    "print(\"R2 score: {:.3f}\".format(r2))"
   ]
  },
  {
   "cell_type": "code",
   "execution_count": null,
   "metadata": {
    "execution": {
     "iopub.execute_input": "2023-02-17T16:57:10.5005Z",
     "iopub.status.busy": "2023-02-17T16:57:10.499268Z",
     "iopub.status.idle": "2023-02-17T16:57:10.524913Z",
     "shell.execute_reply": "2023-02-17T16:57:10.523492Z",
     "shell.execute_reply.started": "2023-02-17T16:57:10.500454Z"
    }
   },
   "outputs": [],
   "source": [
    "age_model_3.save('/kaggle/working/age_model_3.h5')\n",
    "age_model_4.save('/kaggle/working/age_model_4.h5')\n"
   ]
  }
 ],
 "metadata": {
  "kernelspec": {
   "display_name": "Python 3 (ipykernel)",
   "language": "python",
   "name": "python3"
  },
  "language_info": {
   "codemirror_mode": {
    "name": "ipython",
    "version": 3
   },
   "file_extension": ".py",
   "mimetype": "text/x-python",
   "name": "python",
   "nbconvert_exporter": "python",
   "pygments_lexer": "ipython3",
   "version": "3.10.11"
  }
 },
 "nbformat": 4,
 "nbformat_minor": 4
}
